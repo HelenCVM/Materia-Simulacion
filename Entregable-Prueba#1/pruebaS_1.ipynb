{
  "nbformat": 4,
  "nbformat_minor": 0,
  "metadata": {
    "colab": {
      "name": "pruebaS#1.ipynb",
      "private_outputs": true,
      "provenance": [],
      "collapsed_sections": []
    },
    "kernelspec": {
      "name": "python3",
      "display_name": "Python 3"
    },
    "language_info": {
      "name": "python"
    },
    "accelerator": "GPU"
  },
  "cells": [
    {
      "cell_type": "markdown",
      "metadata": {
        "id": "M4ABAvFswVyL"
      },
      "source": [
        "## **Prueba #1**\n",
        "\n",
        "\n",
        "*   materia: Simulacion\n",
        "*   autora: Helen Companioni vargas\n",
        "\n"
      ]
    },
    {
      "cell_type": "code",
      "metadata": {
        "id": "wEb0VrhvvCFL"
      },
      "source": [
        "#librerias\n",
        "import matplotlib.pyplot as plt\n",
        "import numpy as np\n",
        "import pandas as pd\n",
        "import io\n",
        "from google.colab import files\n",
        "import plotly.graph_objects as go"
      ],
      "execution_count": null,
      "outputs": []
    },
    {
      "cell_type": "markdown",
      "metadata": {
        "id": "JQV82-4w4ykK"
      },
      "source": [
        "## **Orden**\n",
        "•\tDiseñe y desarrolle un modelo y/o script que permita describir el siguiente caso aplicado:\n",
        "◦\tSe tiene los datos del ecuador \n",
        "(https://www.ecuadorencifras.gob.ec/documentos/web-inec/EMPLEO/2021/Octubre-2021/202110_Tabulados_Mercado_Laboral_CSV.zip): "
      ]
    },
    {
      "cell_type": "markdown",
      "metadata": {
        "id": "nQNDHKEl4s1i"
      },
      "source": [
        "**•\tGenerar graficas y reportes del total de personas empleadas y desempleadas por año.**"
      ]
    },
    {
      "cell_type": "code",
      "metadata": {
        "id": "ot9T3ReIBgBq"
      },
      "source": [
        "archivo_fifa = files.upload()"
      ],
      "execution_count": null,
      "outputs": []
    },
    {
      "cell_type": "code",
      "metadata": {
        "id": "Wsiq7u0JCpmJ"
      },
      "source": [
        "import pandas as pd\n",
        "df = pd.read_csv('1.Poblaciones.csv', sep = ';', encoding = 'latin1',header=1, error_bad_lines=False) #error_bad_lines is avoid single line error\n",
        "#df['Área'] = df[['Área', 'Unnamed: 5']].apply(' '.join, axis=1)\n",
        "#df.drop(df.columns[df.columns.str.contains('unnamed',case = False)],axis = 1, inplace = True)\n",
        "df = df.rename(columns={'Área':'Área urbana ','Unnamed: 5':'Área rural','Nacional':'Nacional/Total','Sexo':'Sexo-Hombre','Unnamed: 7':'Sexo-Mujer'})\n",
        "df.drop(df.columns[df.columns.str.contains('unnamed',case = False)],axis = 1, inplace = True)\n",
        "df"
      ],
      "execution_count": null,
      "outputs": []
    },
    {
      "cell_type": "code",
      "metadata": {
        "id": "A9uoaY3LQ9-2"
      },
      "source": [
        "df.drop([0])"
      ],
      "execution_count": null,
      "outputs": []
    },
    {
      "cell_type": "code",
      "metadata": {
        "id": "h01ZKgDdNB-i"
      },
      "source": [
        "df.columns"
      ],
      "execution_count": null,
      "outputs": []
    },
    {
      "cell_type": "code",
      "metadata": {
        "id": "Bo5_PvXvS_Ma"
      },
      "source": [
        "df1= df.drop([0]).copy()\n",
        "df1"
      ],
      "execution_count": null,
      "outputs": []
    },
    {
      "cell_type": "code",
      "metadata": {
        "id": "VdwdQda_MKL_"
      },
      "source": [
        "df6 = df1.copy()"
      ],
      "execution_count": null,
      "outputs": []
    },
    {
      "cell_type": "code",
      "metadata": {
        "id": "QSDWxW7wlVQL"
      },
      "source": [
        "df1['Periodo']"
      ],
      "execution_count": null,
      "outputs": []
    },
    {
      "cell_type": "code",
      "metadata": {
        "id": "VjmjmPxRuTJ6"
      },
      "source": [
        "df1['Periodo']=df1['Periodo'].replace('\\-','20',regex=True)\n",
        "df1"
      ],
      "execution_count": null,
      "outputs": []
    },
    {
      "cell_type": "code",
      "metadata": {
        "id": "EPeApTplwn13"
      },
      "source": [
        "df1['Periodo'] = df1['Periodo'].str.replace(r\"[a-zA-Z]\",'')\n",
        "df1"
      ],
      "execution_count": null,
      "outputs": []
    },
    {
      "cell_type": "code",
      "metadata": {
        "id": "kMWhMcty-5aE"
      },
      "source": [
        "df2= df1.copy()"
      ],
      "execution_count": null,
      "outputs": []
    },
    {
      "cell_type": "code",
      "metadata": {
        "id": "9aoKrBYSC8dH"
      },
      "source": [
        "df2['Nacional/Total']=df2['Nacional/Total'].replace('\\.','',regex=True)\n",
        "df2"
      ],
      "execution_count": null,
      "outputs": []
    },
    {
      "cell_type": "code",
      "metadata": {
        "id": "sqhAB-_SCU-I"
      },
      "source": [
        "df2['Nacional/Total'] = df2['Nacional/Total'].astype(float, errors = 'raise')"
      ],
      "execution_count": null,
      "outputs": []
    },
    {
      "cell_type": "code",
      "metadata": {
        "id": "n0Ngm4f7B5so"
      },
      "source": [
        "df2['Nacional/Total']"
      ],
      "execution_count": null,
      "outputs": []
    },
    {
      "cell_type": "code",
      "metadata": {
        "id": "LnJDe2wiKTxB"
      },
      "source": [
        "list = ['Población Total','Población Económicamente Inactiva','Población en Edad de Trabajar (PET)','Poblacion Total','Población menor de 15 años','Población Económicamente Activa','Población Total']\n",
        "conte= df2.shape[0]\n",
        "\n",
        "for i in range(len(list)):\n",
        "  for j in range(conte):\n",
        "    df2 = df2.drop(df2[df2['Indicadores']== list[i]].index)\n",
        "\n",
        "df2"
      ],
      "execution_count": null,
      "outputs": []
    },
    {
      "cell_type": "code",
      "metadata": {
        "id": "HNzRtigzHZbk"
      },
      "source": [
        "df4=df2.copy()"
      ],
      "execution_count": null,
      "outputs": []
    },
    {
      "cell_type": "code",
      "metadata": {
        "id": "VRQ58JhnFE_d"
      },
      "source": [
        "df5=df2.copy()"
      ],
      "execution_count": null,
      "outputs": []
    },
    {
      "cell_type": "code",
      "metadata": {
        "id": "reCRBm__endm"
      },
      "source": [
        "df3=df2.copy()\n",
        "empleo=['Empleo','Empleo Adecuado/Pleno','Otro Empleo no pleno','Empleo no clasificado','Empleo no remunerado','Subempleo','Subempleo por insuficiencia de ingresos','Subempleo por insuficiencia de tiempo de trabajo']\n",
        "desempleo=['Desempleo','Desempleo Cesante','Desempleo Abierto','Desempleo Nuevo','Desempleo Oculto']\n",
        "df3['Indicadores'] = df3['Indicadores'].str.replace('Subempleo por insuficiencia de tiempo de trabajo','Empleo')\n",
        "df3['Indicadores'] = df3['Indicadores'].str.replace('Subempleo por insuficiencia de ingresos','Empleo')\n",
        "df3.drop(df3[df3['Indicadores']=='Población Total'].index)\n",
        "\n",
        "for j in empleo:\n",
        "  for i in df3['Indicadores']:\n",
        "    if j==i:\n",
        "      df3['Indicadores']=df3['Indicadores'].replace(i,'Empleo',regex=True)\n",
        "\n",
        "for j in desempleo:\n",
        "  for i in df3['Indicadores']:\n",
        "    if j==i:\n",
        "      df3['Indicadores']=df3['Indicadores'].replace(i,'Desempleo',regex=True)\n",
        "\n",
        "df3"
      ],
      "execution_count": null,
      "outputs": []
    },
    {
      "cell_type": "code",
      "metadata": {
        "id": "9LMgOE3paMI9"
      },
      "source": [
        "df3['Nacional/Total'] = df3['Nacional/Total'].astype('int64', errors = 'raise')"
      ],
      "execution_count": null,
      "outputs": []
    },
    {
      "cell_type": "code",
      "metadata": {
        "id": "OfVZ2LJ8jvTy"
      },
      "source": [
        "df3"
      ],
      "execution_count": null,
      "outputs": []
    },
    {
      "cell_type": "code",
      "metadata": {
        "id": "zpIc3I9JjTJr"
      },
      "source": [
        "empleo = df3.loc[df3['Indicadores'] == 'Empleo']\n",
        "empleo"
      ],
      "execution_count": null,
      "outputs": []
    },
    {
      "cell_type": "code",
      "metadata": {
        "id": "SQbktUI7kUv7"
      },
      "source": [
        "desempleo = df3.loc[df3['Indicadores'] == 'Desempleo']\n",
        "desempleo"
      ],
      "execution_count": null,
      "outputs": []
    },
    {
      "cell_type": "code",
      "metadata": {
        "id": "2liXovcQkD8C"
      },
      "source": [
        "df3['Periodo']"
      ],
      "execution_count": null,
      "outputs": []
    },
    {
      "cell_type": "code",
      "metadata": {
        "id": "j0n3-uajpT9N"
      },
      "source": [
        "print(df3.loc[(df3['Indicadores'] == 'Empleo') | (df3['Indicadores'] == 'Desempleo')].groupby(['Periodo','Indicadores'])['Nacional/Total'].agg([np.sum]))"
      ],
      "execution_count": null,
      "outputs": []
    },
    {
      "cell_type": "code",
      "metadata": {
        "id": "lQ5WuCX2ibj2"
      },
      "source": [
        "tdesempleo=df3.loc[df3['Indicadores'] == 'Desempleo'].groupby(['Periodo'])['Nacional/Total'].sum().reset_index()\n",
        "templeo=df3.loc[df3['Indicadores'] == 'Empleo'].groupby(['Periodo'])['Nacional/Total'].sum().reset_index()\n",
        "\n",
        "plt.figure(figsize=(15,10))\n",
        "plt.grid(True)\n",
        "plt.plot(templeo['Periodo'], templeo['Nacional/Total'], label='Empleo')\n",
        "plt.plot(tdesempleo['Periodo'], tdesempleo['Nacional/Total'], label='Desempleo')\n",
        "plt.title('Total de personas empleadas y no desempleadas por años')\n",
        "try:\n",
        "    plt.ticklabel_format(axis='y',style='plain')\n",
        "except AttributeError:\n",
        "    print('')\n",
        "plt.legend(loc='upper left')\n",
        "plt.show()"
      ],
      "execution_count": null,
      "outputs": []
    },
    {
      "cell_type": "code",
      "metadata": {
        "id": "TskXrCFx2yLM"
      },
      "source": [
        "templeodesempleo = df3.loc[(df3['Indicadores'] == 'Empleo') | (df3['Indicadores'] == 'Desempleo')]\n",
        "stack_selection = templeodesempleo.groupby(['Periodo','Indicadores'])['Nacional/Total'].agg([np.sum]).unstack()\n",
        "stack_selection.plot(kind=\"bar\")\n",
        "plt.grid()\n",
        "plt.ticklabel_format(axis='y',style='plain')\n",
        "plt.title('Desempleo y Empleo por año')\n",
        "plt.tight_layout()  "
      ],
      "execution_count": null,
      "outputs": []
    },
    {
      "cell_type": "markdown",
      "metadata": {
        "id": "bJMBQImB46KC"
      },
      "source": [
        "**•\tGenerar grafico de pie por personas basadas en la sectorización de empleo.**"
      ]
    },
    {
      "cell_type": "code",
      "metadata": {
        "id": "039ig5-7HUmd"
      },
      "source": [
        "df4.head()"
      ],
      "execution_count": null,
      "outputs": []
    },
    {
      "cell_type": "code",
      "metadata": {
        "id": "_HpdtstZK5pS"
      },
      "source": [
        "df4['Área urbana ']=df4['Área urbana '].replace('\\.','',regex=True)"
      ],
      "execution_count": null,
      "outputs": []
    },
    {
      "cell_type": "code",
      "metadata": {
        "id": "1HlwWeN1K6Pi"
      },
      "source": [
        "df4['Área rural']=df4['Área rural'].replace('\\.','',regex=True)"
      ],
      "execution_count": null,
      "outputs": []
    },
    {
      "cell_type": "code",
      "metadata": {
        "id": "TbAcZ6SyLG5Z"
      },
      "source": [
        "df4['Área urbana '] = df4['Área urbana '].astype(int, errors = 'raise')"
      ],
      "execution_count": null,
      "outputs": []
    },
    {
      "cell_type": "code",
      "metadata": {
        "id": "34ZsqDQLL4mx"
      },
      "source": [
        "df4['Área rural'] = df4['Área rural'].astype(int, errors = 'raise')"
      ],
      "execution_count": null,
      "outputs": []
    },
    {
      "cell_type": "code",
      "metadata": {
        "id": "Eh08Q0quMSMJ"
      },
      "source": [
        "dfrural= df4['Área rural'].sum()\n",
        "dfrural"
      ],
      "execution_count": null,
      "outputs": []
    },
    {
      "cell_type": "code",
      "metadata": {
        "id": "Pig2dWT9NX9p"
      },
      "source": [
        "dfurbana= df4['Área urbana '].sum()\n",
        "dfurbana"
      ],
      "execution_count": null,
      "outputs": []
    },
    {
      "cell_type": "code",
      "metadata": {
        "id": "LHAOFswoo89e"
      },
      "source": [
        "dftotal= df4['Nacional/Total'].sum()\n",
        "dftotal"
      ],
      "execution_count": null,
      "outputs": []
    },
    {
      "cell_type": "code",
      "metadata": {
        "id": "-vBH7W0CNadP"
      },
      "source": [
        "import matplotlib.pyplot as plt\n",
        "\n",
        "secto=[dfrural,dfurbana,dftotal]\n",
        "nombres = [\"Rural\",\"Urbana\",\"Nacional\"]\n",
        "colors = ['#abdbe3','#76b5c5','#1e81b0']\n",
        "plt.pie(secto, labels=nombres, autopct=\"%0.1f %%\",colors=colors)\n",
        "plt.axis(\"equal\")\n",
        "plt.title('Sectorización de empleo')\n",
        "plt.show()"
      ],
      "execution_count": null,
      "outputs": []
    },
    {
      "cell_type": "markdown",
      "metadata": {
        "id": "yyz2_cKy5BFy"
      },
      "source": [
        "**•\tGenerar histogramas subempleo, empleo pleno y empleo no pleno por año.**"
      ]
    },
    {
      "cell_type": "code",
      "metadata": {
        "id": "VjEc4dul5Bxy"
      },
      "source": [
        "seleccionado = df5.loc[(df5['Indicadores'] == 'Subempleo') | (df5['Indicadores'] == 'Subempleo por insuficiencia de tiempo de trabajo') | (df5['Indicadores'] == 'Subempleo por insuficiencia de ingresos') | (df5['Indicadores'] == 'Otro Empleo no pleno') | (df5['Indicadores'] == 'Empleo Adecuado/Pleno')]\n",
        "seleccionado"
      ],
      "execution_count": null,
      "outputs": []
    },
    {
      "cell_type": "code",
      "metadata": {
        "id": "_E0Oq-o6GQkc"
      },
      "source": [
        "seleccionado['Indicadores'] = seleccionado['Indicadores'].str.replace('Subempleo por insuficiencia de tiempo de trabajo','Subempleo')\n",
        "seleccionado['Indicadores'] = seleccionado['Indicadores'].str.replace('Subempleo por insuficiencia de ingresos','Subempleo')\n",
        "\n",
        "seleccionado"
      ],
      "execution_count": null,
      "outputs": []
    },
    {
      "cell_type": "code",
      "metadata": {
        "id": "6PwLaYRWHRK9"
      },
      "source": [
        "dfseleccionado= seleccionado['Indicadores'].value_counts().reset_index()\n",
        "dfseleccionado"
      ],
      "execution_count": null,
      "outputs": []
    },
    {
      "cell_type": "code",
      "metadata": {
        "id": "4YjOBOpPIItl"
      },
      "source": [
        "print(seleccionado.groupby(['Periodo','Indicadores'])['Nacional/Total'].agg([np.sum]))"
      ],
      "execution_count": null,
      "outputs": []
    },
    {
      "cell_type": "code",
      "metadata": {
        "id": "8TnYApoyHm-M"
      },
      "source": [
        "stack_seleccion = seleccionado.groupby(['Periodo','Indicadores'])['Nacional/Total'].agg([np.sum]).unstack()\n",
        "stack_seleccion.plot(kind=\"bar\")\n",
        "plt.grid()\n",
        "plt.ticklabel_format(axis='y',style='plain')\n",
        "plt.title('Subempleo, empleo pleno y empleo no pleno por año')\n",
        "plt.tight_layout()  \n",
        "#hist"
      ],
      "execution_count": null,
      "outputs": []
    },
    {
      "cell_type": "markdown",
      "metadata": {
        "id": "LAWyUd7XTW5K"
      },
      "source": [
        "▪\t**Generar un reporte parametrizado que permita ingresar los datos de las fechas inicio y fin para obtener la información de las graficas vistas en el primer punto.**"
      ]
    },
    {
      "cell_type": "code",
      "metadata": {
        "id": "fqsIks3zTXRN"
      },
      "source": [
        "import pandas as pd\n",
        "dfparametri = pd.read_csv('1.Poblaciones.csv', sep = ';', encoding = 'latin1',header=1, error_bad_lines=False) #error_bad_lines is avoid single line error\n",
        "#df['Área'] = df[['Área', 'Unnamed: 5']].apply(' '.join, axis=1)\n",
        "#df.drop(df.columns[df.columns.str.contains('unnamed',case = False)],axis = 1, inplace = True)\n",
        "dfparametri = dfparametri.rename(columns={'Área':'Área urbana ','Unnamed: 5':'Área rural','Nacional':'Nacional/Total','Sexo':'Sexo-Hombre','Unnamed: 7':'Sexo-Mujer'})\n",
        "dfparametri.drop(dfparametri.columns[dfparametri.columns.str.contains('unnamed',case = False)],axis = 1, inplace = True)\n",
        "parametriselecc=dfparametri.drop([0])"
      ],
      "execution_count": null,
      "outputs": []
    },
    {
      "cell_type": "code",
      "metadata": {
        "id": "ro21Xxf7ZSRp"
      },
      "source": [
        "parametriselecc['Periodo'] = parametriselecc['Periodo'].str.replace('-','/20')\n",
        "for i in parametriselecc['Periodo']:\n",
        "  i=i.split(sep='/')\n",
        "  #print(i[0])\n",
        "  if (i[0]=='ene'):\n",
        "    parametriselecc['Periodo'] = parametriselecc['Periodo'].str.replace(i[0],'1/01')\n",
        "  if (i[0]=='feb'):\n",
        "    parametriselecc['Periodo'] = parametriselecc['Periodo'].str.replace(i[0],'1/02')\n",
        "  if (i[0]=='mar'):\n",
        "    parametriselecc['Periodo'] = parametriselecc['Periodo'].str.replace(i[0],'1/03')\n",
        "  if (i[0]=='abr'):\n",
        "    parametriselecc['Periodo'] = parametriselecc['Periodo'].str.replace(i[0],'1/04')\n",
        "  if (i[0]=='may'):\n",
        "    parametriselecc['Periodo'] = parametriselecc['Periodo'].str.replace(i[0],'1/05')\n",
        "  if (i[0]=='jun'):\n",
        "    parametriselecc['Periodo'] = parametriselecc['Periodo'].str.replace(i[0],'1/06')\n",
        "  if (i[0]=='jul'):\n",
        "    parametriselecc['Periodo'] = parametriselecc['Periodo'].str.replace(i[0],'1/07')\n",
        "  if (i[0]=='ago'):\n",
        "    parametriselecc['Periodo'] = parametriselecc['Periodo'].str.replace(i[0],'1/08')\n",
        "  if (i[0]=='sep'):\n",
        "    parametriselecc['Periodo'] = parametriselecc['Periodo'].str.replace(i[0],'1/09')\n",
        "  if (i[0]=='oct'):\n",
        "    parametriselecc['Periodo'] = parametriselecc['Periodo'].str.replace(i[0],'1/10')\n",
        "  if (i[0]=='nov'):\n",
        "    parametriselecc['Periodo'] = parametriselecc['Periodo'].str.replace(i[0],'1/11')\n",
        "  if (i[0]=='dic'):\n",
        "    parametriselecc['Periodo'] = parametriselecc['Periodo'].str.replace(i[0],'1/12')\n",
        "\n",
        "#dataParametrizado['Periodo'] = dataParametrizado['Periodo'].str.replace(r\"[a-zA-Z]\",'')\n",
        "parametriselecc.head(30)"
      ],
      "execution_count": null,
      "outputs": []
    },
    {
      "cell_type": "code",
      "metadata": {
        "id": "NLdfMTiobcDb"
      },
      "source": [
        "from datetime import datetime\n",
        "FMT = '%d/%m/%Y'\n",
        "parametriselecc['Periodo'] = parametriselecc['Periodo'].map(lambda x : (datetime.strptime(x, FMT)))"
      ],
      "execution_count": null,
      "outputs": []
    },
    {
      "cell_type": "code",
      "metadata": {
        "id": "5xvOl2TjbdZl"
      },
      "source": [
        "parametriselecc"
      ],
      "execution_count": null,
      "outputs": []
    },
    {
      "cell_type": "code",
      "metadata": {
        "id": "a7xMfkdpeB0N"
      },
      "source": [
        "parametriselecc['Nacional/Total']=parametriselecc['Nacional/Total'].replace('\\.','',regex=True)"
      ],
      "execution_count": null,
      "outputs": []
    },
    {
      "cell_type": "code",
      "metadata": {
        "id": "zN6qnvn0bd5c"
      },
      "source": [
        "parametriselecc['Nacional/Total'] = parametriselecc['Nacional/Total'].astype(float, errors = 'raise')"
      ],
      "execution_count": null,
      "outputs": []
    },
    {
      "cell_type": "code",
      "metadata": {
        "id": "RAYijgAqttpy"
      },
      "source": [
        "parametriseleccpie = parametriselecc.copy()"
      ],
      "execution_count": null,
      "outputs": []
    },
    {
      "cell_type": "code",
      "metadata": {
        "id": "LqDae79WimN-"
      },
      "source": [
        "list = ['Población Total','Población Económicamente Inactiva','Población en Edad de Trabajar (PET)','Poblacion Total','Población menor de 15 años','Población Económicamente Activa','Población Total']\n",
        "conte= parametriselecc.shape[0]\n",
        "\n",
        "for i in range(len(list)):\n",
        "  for j in range(conte):\n",
        "    parametriselecc = parametriselecc.drop(parametriselecc[parametriselecc['Indicadores']== list[i]].index)\n"
      ],
      "execution_count": null,
      "outputs": []
    },
    {
      "cell_type": "code",
      "metadata": {
        "id": "myQKQyeEil-s"
      },
      "source": [
        "empleo=['Empleo','Empleo Adecuado/Pleno','Otro Empleo no pleno','Empleo no clasificado','Empleo no remunerado','Subempleo','Subempleo por insuficiencia de ingresos','Subempleo por insuficiencia de tiempo de trabajo']\n",
        "desempleo=['Desempleo','Desempleo Cesante','Desempleo Abierto','Desempleo Nuevo','Desempleo Oculto']\n",
        "parametriselecc['Indicadores'] = parametriselecc['Indicadores'].str.replace('Subempleo por insuficiencia de tiempo de trabajo','Empleo')\n",
        "parametriselecc['Indicadores'] = parametriselecc['Indicadores'].str.replace('Subempleo por insuficiencia de ingresos','Empleo')\n",
        "parametriselecc.drop(parametriselecc[parametriselecc['Indicadores']=='Población Total'].index)\n",
        "\n",
        "for j in empleo:\n",
        "  for i in parametriselecc['Indicadores']:\n",
        "    if j==i:\n",
        "      parametriselecc['Indicadores']=parametriselecc['Indicadores'].replace(i,'Empleo',regex=True)\n",
        "\n",
        "for j in desempleo:\n",
        "  for i in parametriselecc['Indicadores']:\n",
        "    if j==i:\n",
        "      parametriselecc['Indicadores']=parametriselecc['Indicadores'].replace(i,'Desempleo',regex=True)\n",
        "\n",
        "parametriselecc"
      ],
      "execution_count": null,
      "outputs": []
    },
    {
      "cell_type": "code",
      "metadata": {
        "id": "Pdu_X9wUjotD"
      },
      "source": [
        "parametriselecc['Nacional/Total'] = parametriselecc['Nacional/Total'].astype('int64', errors = 'raise')"
      ],
      "execution_count": null,
      "outputs": []
    },
    {
      "cell_type": "code",
      "metadata": {
        "id": "geS6-1X5k4eK"
      },
      "source": [
        "parametriselecc"
      ],
      "execution_count": null,
      "outputs": []
    },
    {
      "cell_type": "code",
      "metadata": {
        "id": "EJvijroIjokq"
      },
      "source": [
        "print(parametriselecc.loc[(parametriselecc['Indicadores'] == 'Empleo') | (parametriselecc['Indicadores'] == 'Desempleo')].groupby(['Periodo','Indicadores'])['Nacional/Total'].agg([np.sum]))"
      ],
      "execution_count": null,
      "outputs": []
    },
    {
      "cell_type": "code",
      "metadata": {
        "id": "IOWsK-f9kIS6"
      },
      "source": [
        "parametridos=parametriselecc.loc[(parametriselecc['Indicadores'] == 'Empleo') | (parametriselecc['Indicadores'] == 'Desempleo')].groupby(['Periodo','Indicadores'])['Nacional/Total'].agg([np.sum])"
      ],
      "execution_count": null,
      "outputs": []
    },
    {
      "cell_type": "code",
      "metadata": {
        "id": "zWkzzyLDjoZk"
      },
      "source": [
        "parametridos"
      ],
      "execution_count": null,
      "outputs": []
    },
    {
      "cell_type": "code",
      "metadata": {
        "id": "HkqHqWKTstYI"
      },
      "source": [
        "parametritres=parametridos['sum'].reset_index()"
      ],
      "execution_count": null,
      "outputs": []
    },
    {
      "cell_type": "code",
      "metadata": {
        "id": "p2zYJOMw3H_M"
      },
      "source": [
        "from datetime import datetime\n",
        "f1, f2 = input('Ingrese fecha inicial: '), input('Ingrese fecha final: ')\n",
        "\n",
        "baseinicial = [parametritres.index.get_indexer_for((parametritres[parametritres['Periodo'] == f1].index))]\n",
        "valorinicial = baseinicial[0][0]\n",
        "print(valorinicial)\n",
        "\n",
        "basefinal = [parametritres.index.get_indexer_for((parametritres[parametritres['Periodo'] == f2].index))]\n",
        "valorfinal = basefinal[0][1]\n",
        "print(valorfinal)\n",
        "\n"
      ],
      "execution_count": null,
      "outputs": []
    },
    {
      "cell_type": "code",
      "metadata": {
        "id": "lnMPvh8x3wUn"
      },
      "source": [
        "parametricuatro=parametritres.iloc[valorinicial:valorfinal]\n",
        "parametricuatro"
      ],
      "execution_count": null,
      "outputs": []
    },
    {
      "cell_type": "code",
      "metadata": {
        "id": "GzJVtV62QsZ7"
      },
      "source": [
        "parametricinco= parametricuatro.copy()"
      ],
      "execution_count": null,
      "outputs": []
    },
    {
      "cell_type": "code",
      "metadata": {
        "id": "L3avtLtzQ5Ap"
      },
      "source": [
        "parametricinco"
      ],
      "execution_count": null,
      "outputs": []
    },
    {
      "cell_type": "code",
      "metadata": {
        "id": "bJahYtd0YSWK"
      },
      "source": [
        "templeo=parametricinco.loc[parametricinco['Indicadores'] == 'Empleo'].groupby(['Periodo'])['sum'].sum().reset_index()\n",
        "\n",
        "plt.figure(figsize=(15,10))\n",
        "plt.grid(True)\n",
        "plt.plot(templeo['Periodo'], templeo['sum'], label='Empleo')\n",
        "plt.title('Total de personas empleadas por año')\n",
        "try:\n",
        "    plt.ticklabel_format(axis='y',style='plain')\n",
        "except AttributeError:\n",
        "    print('')\n",
        "plt.legend(loc='upper left')\n",
        "plt.show()"
      ],
      "execution_count": null,
      "outputs": []
    },
    {
      "cell_type": "code",
      "metadata": {
        "id": "hceMlmvxaAu-"
      },
      "source": [
        "tdesempleo=parametricinco.loc[parametricinco['Indicadores'] == 'Desempleo'].groupby(['Periodo'])['sum'].sum().reset_index()\n",
        "\n",
        "plt.figure(figsize=(15,10))\n",
        "plt.grid(True)\n",
        "plt.plot(tdesempleo['Periodo'], tdesempleo['sum'], label='Desempleo',color= 'orange')\n",
        "plt.title('Total de personas desempleadas por año')\n",
        "try:\n",
        "    plt.ticklabel_format(axis='y',style='plain')\n",
        "except AttributeError:\n",
        "    print('')\n",
        "plt.legend(loc='upper left')\n",
        "plt.show()"
      ],
      "execution_count": null,
      "outputs": []
    },
    {
      "cell_type": "markdown",
      "metadata": {
        "id": "GhSjx-74stc6"
      },
      "source": [
        "## Segundo grafico"
      ]
    },
    {
      "cell_type": "code",
      "metadata": {
        "id": "Vp6GRHi1vZaR"
      },
      "source": [
        "parametriseleccpie"
      ],
      "execution_count": null,
      "outputs": []
    },
    {
      "cell_type": "code",
      "metadata": {
        "id": "nISv48b7eJM7"
      },
      "source": [
        "#separar por la fecha de inicio y fin\n",
        "parametricuatro=parametriseleccpie.iloc[valorinicial:valorfinal-1]\n",
        "parametricuatro"
      ],
      "execution_count": null,
      "outputs": []
    },
    {
      "cell_type": "code",
      "metadata": {
        "id": "bN-BC-K0jhJn"
      },
      "source": [
        "parametricuatro['Área urbana ']=parametricuatro['Área urbana '].replace('\\.','',regex=True)\n",
        "\n",
        "parametricuatro['Área rural']=parametricuatro['Área rural'].replace('\\.','',regex=True)\n",
        "\n",
        "parametricuatro['Área urbana '] = parametricuatro['Área urbana '].astype(int, errors = 'raise')\n",
        "\n",
        "parametricuatro['Área rural'] = parametricuatro['Área rural'].astype(int, errors = 'raise')\n",
        "\n",
        "parametricuatro['Nacional/Total']=parametricuatro['Nacional/Total'].replace('\\.','',regex=True)\n",
        "\n",
        "parametricuatro['Nacional/Total'] = parametricuatro['Nacional/Total'].astype(int, errors = 'raise')"
      ],
      "execution_count": null,
      "outputs": []
    },
    {
      "cell_type": "code",
      "metadata": {
        "id": "OqtKe02vj-lR"
      },
      "source": [
        "dfruralpara= parametricuatro['Área rural'].sum()\n",
        "dfruralpara"
      ],
      "execution_count": null,
      "outputs": []
    },
    {
      "cell_type": "code",
      "metadata": {
        "id": "D1hk6SYzjhAV"
      },
      "source": [
        "dfurbanapara= parametricuatro['Área urbana '].sum()\n",
        "dfurbanapara"
      ],
      "execution_count": null,
      "outputs": []
    },
    {
      "cell_type": "code",
      "metadata": {
        "id": "0dUd_xgsjg4h"
      },
      "source": [
        "dftotalpara= parametricuatro['Nacional/Total'].sum()\n",
        "dftotalpara"
      ],
      "execution_count": null,
      "outputs": []
    },
    {
      "cell_type": "code",
      "metadata": {
        "id": "yBz7T318eI7Y"
      },
      "source": [
        "import matplotlib.pyplot as plt\n",
        "\n",
        "secto=[dfruralpara,dfurbanapara,dftotalpara]\n",
        "nombres = [\"Rural\",\"Urbana\",\"Nacional\"]\n",
        "colors = ['#abdbe3','#76b5c5','#1e81b0']\n",
        "plt.pie(secto, labels=nombres, autopct=\"%0.1f %%\",colors=colors)\n",
        "plt.axis(\"equal\")\n",
        "plt.title('Sectorización de empleo')\n",
        "plt.show()"
      ],
      "execution_count": null,
      "outputs": []
    },
    {
      "cell_type": "markdown",
      "metadata": {
        "id": "YmPwklgXly7m"
      },
      "source": [
        "## Tercer grafico"
      ]
    },
    {
      "cell_type": "code",
      "metadata": {
        "id": "SOMEOG68i23a"
      },
      "source": [
        "parametriselecchist=parametriseleccpie.copy()\n",
        "parametriselecchist"
      ],
      "execution_count": null,
      "outputs": []
    },
    {
      "cell_type": "code",
      "metadata": {
        "id": "4DgXQWeci3YN"
      },
      "source": [
        "#separar por fecha de inicio y fecha fin\n",
        "parametrihist=parametriselecchist.iloc[valorinicial:valorfinal-1]\n",
        "parametrihist"
      ],
      "execution_count": null,
      "outputs": []
    },
    {
      "cell_type": "code",
      "metadata": {
        "id": "BnztZECnm4I3"
      },
      "source": [
        "seleccionadohist = parametrihist.loc[(parametrihist['Indicadores'] == 'Subempleo') | (parametrihist['Indicadores'] == 'Subempleo por insuficiencia de tiempo de trabajo') | (parametrihist['Indicadores'] == 'Subempleo por insuficiencia de ingresos') | (parametrihist['Indicadores'] == 'Otro Empleo no pleno') | (parametrihist['Indicadores'] == 'Empleo Adecuado/Pleno')]\n",
        "seleccionadohist"
      ],
      "execution_count": null,
      "outputs": []
    },
    {
      "cell_type": "code",
      "metadata": {
        "id": "jKsY861CpAqj"
      },
      "source": [
        "seleccionadohist['Indicadores'] = seleccionadohist['Indicadores'].str.replace('Subempleo por insuficiencia de tiempo de trabajo','Subempleo')\n",
        "seleccionadohist['Indicadores'] = seleccionadohist['Indicadores'].str.replace('Subempleo por insuficiencia de ingresos','Subempleo')\n",
        "seleccionadohist"
      ],
      "execution_count": null,
      "outputs": []
    },
    {
      "cell_type": "code",
      "metadata": {
        "id": "h0mNknlZpQFe"
      },
      "source": [
        "dfseleccionadohist= seleccionadohist['Indicadores'].value_counts().reset_index()\n",
        "dfseleccionadohist\n"
      ],
      "execution_count": null,
      "outputs": []
    },
    {
      "cell_type": "code",
      "metadata": {
        "id": "5HirRrokpeur"
      },
      "source": [
        "stack_seleccion = seleccionadohist.groupby(['Periodo','Indicadores'])['Nacional/Total'].agg([np.sum]).unstack()\n",
        "stack_seleccion.plot(kind=\"bar\")\n",
        "plt.grid()\n",
        "plt.ticklabel_format(axis='y',style='plain')\n",
        "plt.title('Subempleo, empleo pleno y empleo no pleno por año')\n",
        "plt.tight_layout()  \n"
      ],
      "execution_count": null,
      "outputs": []
    },
    {
      "cell_type": "markdown",
      "metadata": {
        "id": "Jy-Co9bzTYsi"
      },
      "source": [
        "▪ **Describir con estadística descriptiva los datos que se encuentran en el archivos.**"
      ]
    },
    {
      "cell_type": "markdown",
      "metadata": {
        "id": "JzZopsXCMUhG"
      },
      "source": [
        "### **Archivo Poblaciones**"
      ]
    },
    {
      "cell_type": "code",
      "metadata": {
        "id": "LeZhEUvfd1w-"
      },
      "source": [
        "df6seleccionado= df6.iloc[:,3:8]"
      ],
      "execution_count": null,
      "outputs": []
    },
    {
      "cell_type": "code",
      "metadata": {
        "id": "A9ExSw_aejh_"
      },
      "source": [
        "df6seleccionado=df6seleccionado.replace('\\.','',regex=True)"
      ],
      "execution_count": null,
      "outputs": []
    },
    {
      "cell_type": "code",
      "metadata": {
        "id": "LOqRcvv9h7WD"
      },
      "source": [
        "df6seleccionado= df6seleccionado.astype(int, errors = 'raise')"
      ],
      "execution_count": null,
      "outputs": []
    },
    {
      "cell_type": "code",
      "metadata": {
        "id": "dIMhwPZBTcR6"
      },
      "source": [
        "df6seleccionado.describe()"
      ],
      "execution_count": null,
      "outputs": []
    },
    {
      "cell_type": "markdown",
      "metadata": {
        "id": "StnglKDMiHl1"
      },
      "source": [
        "### **Archivo Tasas**"
      ]
    },
    {
      "cell_type": "code",
      "metadata": {
        "id": "PeDawYdYiTYc"
      },
      "source": [
        "import pandas as pd\n",
        "dftasas = pd.read_csv('2.Tasas.csv', sep = ';', encoding = 'latin1',header=1, error_bad_lines=False) #error_bad_lines is avoid single line error\n",
        "dftasas = dftasas.rename(columns={'Área':'Área urbana ','Unnamed: 5':'Área rural','Nacional':'Nacional/Total','Sexo':'Sexo-Hombre','Unnamed: 7':'Sexo-Mujer'})"
      ],
      "execution_count": null,
      "outputs": []
    },
    {
      "cell_type": "code",
      "metadata": {
        "id": "h4JxAu7u3GKP"
      },
      "source": [
        "dftasassele = dftasas.drop([0]).iloc[:,3:8]\n",
        "dftasassele"
      ],
      "execution_count": null,
      "outputs": []
    },
    {
      "cell_type": "code",
      "metadata": {
        "id": "yfyIlNY_4s6Z"
      },
      "source": [
        "dftasassele=dftasassele.replace('\\,','',regex=True)"
      ],
      "execution_count": null,
      "outputs": []
    },
    {
      "cell_type": "code",
      "metadata": {
        "id": "gp2jxuFF4z1W"
      },
      "source": [
        "dftasassele= dftasassele.astype(int, errors = 'raise')"
      ],
      "execution_count": null,
      "outputs": []
    },
    {
      "cell_type": "code",
      "metadata": {
        "id": "ZQpyoV1DMhG2"
      },
      "source": [
        "dftasassele.describe()"
      ],
      "execution_count": null,
      "outputs": []
    },
    {
      "cell_type": "markdown",
      "metadata": {
        "id": "hktimORi5eHO"
      },
      "source": [
        "### **Archivo Categorizacion empleados**"
      ]
    },
    {
      "cell_type": "code",
      "metadata": {
        "id": "vBpmbPAd9jfQ"
      },
      "source": [
        "import pandas as pd\n",
        "dfcempleados = pd.read_csv('3.1. Caracterización empleados.csv', sep = ';', encoding = 'latin1',header=1, error_bad_lines=False) #error_bad_lines is avoid single line error\n",
        "dfcempleados.drop(dfcempleados.columns[dfcempleados.columns.str.contains('unnamed',case = False)],axis = 1, inplace = True)\n",
        "dfcemselecc=dfcempleados.iloc[0:28,1:51]\n"
      ],
      "execution_count": null,
      "outputs": []
    },
    {
      "cell_type": "code",
      "metadata": {
        "id": "HsU9J5vvqDO7"
      },
      "source": [
        "dfcemselecc = dfcemselecc.replace('\\,','.',regex=True)"
      ],
      "execution_count": null,
      "outputs": []
    },
    {
      "cell_type": "code",
      "metadata": {
        "id": "gkRLuORxqN9S"
      },
      "source": [
        "dfcemselecc = dfcemselecc.replace('\\%','',regex=True)"
      ],
      "execution_count": null,
      "outputs": []
    },
    {
      "cell_type": "code",
      "metadata": {
        "id": "TrPn33jsrgWZ"
      },
      "source": [
        "dfcemselecc = dfcemselecc.replace('\\-','',regex=True)"
      ],
      "execution_count": null,
      "outputs": []
    },
    {
      "cell_type": "code",
      "metadata": {
        "id": "h3Ns82OV_bad"
      },
      "source": [
        "dfcemselecc = dfcemselecc.replace('',0.0,regex=True)"
      ],
      "execution_count": null,
      "outputs": []
    },
    {
      "cell_type": "code",
      "metadata": {
        "id": "N_zabn2-97XV"
      },
      "source": [
        "\n",
        "for i in range(50):\n",
        "  va=dfcemselecc.columns[i]\n",
        "  dfcemselecc[va]=(dfcemselecc[va]).apply(lambda x: float(x))\n"
      ],
      "execution_count": null,
      "outputs": []
    },
    {
      "cell_type": "code",
      "metadata": {
        "id": "GETKZ9nml47F"
      },
      "source": [
        "dfcemselecc.describe()"
      ],
      "execution_count": null,
      "outputs": []
    },
    {
      "cell_type": "markdown",
      "metadata": {
        "id": "GpoqHT6J9Jaj"
      },
      "source": [
        "### **Archivo Categorizacion empleo adecuado**"
      ]
    },
    {
      "cell_type": "code",
      "metadata": {
        "id": "LQFHhB_BEZ_5"
      },
      "source": [
        "import pandas as pd\n",
        "dfcempleadosa = pd.read_csv('3.2. Caracterización adec_pleno.csv', sep = ';', encoding = 'latin1',header=1, error_bad_lines=False) #error_bad_lines is avoid single line error\n",
        "dfcempleadosa.drop(dfcempleadosa.columns[dfcempleadosa.columns.str.contains('unnamed',case = False)],axis = 1, inplace = True)\n",
        "dfcempleadosa=dfcempleadosa.iloc[0:25,1:51]"
      ],
      "execution_count": null,
      "outputs": []
    },
    {
      "cell_type": "code",
      "metadata": {
        "id": "c-uNRDDzJ6B4"
      },
      "source": [
        "dfcempleadosa = dfcempleadosa.replace('\\,','.',regex=True)"
      ],
      "execution_count": null,
      "outputs": []
    },
    {
      "cell_type": "code",
      "metadata": {
        "id": "11sE5xByJ50X"
      },
      "source": [
        "dfcempleadosa = dfcempleadosa.replace('\\%','',regex=True)"
      ],
      "execution_count": null,
      "outputs": []
    },
    {
      "cell_type": "code",
      "metadata": {
        "id": "i05COWkmJ5lr"
      },
      "source": [
        "dfcempleadosa = dfcempleadosa.replace('\\-','',regex=True)"
      ],
      "execution_count": null,
      "outputs": []
    },
    {
      "cell_type": "code",
      "metadata": {
        "id": "4msdUtD_KZX0"
      },
      "source": [
        "dfcempleadosa = dfcempleadosa.replace('',0.0,regex=True)"
      ],
      "execution_count": null,
      "outputs": []
    },
    {
      "cell_type": "code",
      "metadata": {
        "id": "Pyo9cYnTKvDV"
      },
      "source": [
        "for i in range(50):\n",
        "  va=dfcempleadosa.columns[i]\n",
        "  dfcempleadosa[va]=(dfcempleadosa[va]).apply(lambda x: float(x))\n"
      ],
      "execution_count": null,
      "outputs": []
    },
    {
      "cell_type": "code",
      "metadata": {
        "id": "ClCfSAu4K2EL"
      },
      "source": [
        "dfcempleadosa.describe()"
      ],
      "execution_count": null,
      "outputs": []
    },
    {
      "cell_type": "markdown",
      "metadata": {
        "id": "4eDSsx8w9PtV"
      },
      "source": [
        "### **Archivo Categorizacion Subempleo**"
      ]
    },
    {
      "cell_type": "code",
      "metadata": {
        "id": "EZdYD4eAMtOa"
      },
      "source": [
        "import pandas as pd\n",
        "dfcsubempleado = pd.read_csv('3.3. Caracterización subempleo.csv', sep = ';', encoding = 'latin1',header=1, error_bad_lines=False) #error_bad_lines is avoid single line error\n",
        "dfcsubempleado.drop(dfcsubempleado.columns[dfcsubempleado.columns.str.contains('unnamed',case = False)],axis = 1, inplace = True)\n",
        "dfcsubempleado=dfcsubempleado.iloc[0:22,1:51]"
      ],
      "execution_count": null,
      "outputs": []
    },
    {
      "cell_type": "code",
      "metadata": {
        "id": "FpFb0gybMtBA"
      },
      "source": [
        "dfcsubempleado = dfcsubempleado.replace('\\,','.',regex=True)"
      ],
      "execution_count": null,
      "outputs": []
    },
    {
      "cell_type": "code",
      "metadata": {
        "id": "RuoxsXPaMsyN"
      },
      "source": [
        "dfcsubempleado = dfcsubempleado.replace('\\%','',regex=True)"
      ],
      "execution_count": null,
      "outputs": []
    },
    {
      "cell_type": "code",
      "metadata": {
        "id": "Kz1JQdA4NWdc"
      },
      "source": [
        "dfcsubempleado = dfcsubempleado.replace('\\-','',regex=True)"
      ],
      "execution_count": null,
      "outputs": []
    },
    {
      "cell_type": "code",
      "metadata": {
        "id": "_zwpwQq5Naaq"
      },
      "source": [
        "dfcsubempleado = dfcsubempleado.replace('',0.0,regex=True)"
      ],
      "execution_count": null,
      "outputs": []
    },
    {
      "cell_type": "code",
      "metadata": {
        "id": "7G6JNlJCNaJ4"
      },
      "source": [
        "for i in range(50):\n",
        "  va=dfcsubempleado.columns[i]\n",
        "  dfcsubempleado[va]=(dfcsubempleado[va]).apply(lambda x: float(x))\n"
      ],
      "execution_count": null,
      "outputs": []
    },
    {
      "cell_type": "code",
      "metadata": {
        "id": "7z572-y-MsM-"
      },
      "source": [
        "dfcsubempleado.describe()"
      ],
      "execution_count": null,
      "outputs": []
    },
    {
      "cell_type": "markdown",
      "metadata": {
        "id": "swRXd98Y9TuZ"
      },
      "source": [
        "### **Archivo Categorizacion Otro empleo no pleno**"
      ]
    },
    {
      "cell_type": "code",
      "metadata": {
        "id": "AeLHs1BgPLlB"
      },
      "source": [
        "import pandas as pd\n",
        "dfcbempleadooe = pd.read_csv('3.4 Caracterización Ot. no pleno.csv', sep = ';', encoding = 'latin1',header=1, error_bad_lines=False) #error_bad_lines is avoid single line error\n",
        "dfcbempleadooe.drop(dfcbempleadooe.columns[dfcbempleadooe.columns.str.contains('unnamed',case = False)],axis = 1, inplace = True)\n",
        "dfcbempleadooe=dfcbempleadooe.iloc[0:21,1:51]"
      ],
      "execution_count": null,
      "outputs": []
    },
    {
      "cell_type": "code",
      "metadata": {
        "id": "0xrzCXO-PLW7"
      },
      "source": [
        "dfcbempleadooe = dfcbempleadooe.replace('\\,','.',regex=True)"
      ],
      "execution_count": null,
      "outputs": []
    },
    {
      "cell_type": "code",
      "metadata": {
        "id": "v8Fxde5CPLLQ"
      },
      "source": [
        "dfcbempleadooe = dfcbempleadooe.replace('\\%','',regex=True)"
      ],
      "execution_count": null,
      "outputs": []
    },
    {
      "cell_type": "code",
      "metadata": {
        "id": "TfvXla0zPK-A"
      },
      "source": [
        "dfcbempleadooe = dfcbempleadooe.replace('\\-','',regex=True)"
      ],
      "execution_count": null,
      "outputs": []
    },
    {
      "cell_type": "code",
      "metadata": {
        "id": "8Cqulh9kPi1-"
      },
      "source": [
        "dfcbempleadooe = dfcbempleadooe.replace('',0.0,regex=True)"
      ],
      "execution_count": null,
      "outputs": []
    },
    {
      "cell_type": "code",
      "metadata": {
        "id": "bi8xPvSTPipD"
      },
      "source": [
        "for i in range(50):\n",
        "  va=dfcbempleadooe.columns[i]\n",
        "  dfcbempleadooe[va]=(dfcbempleadooe[va]).apply(lambda x: float(x))\n"
      ],
      "execution_count": null,
      "outputs": []
    },
    {
      "cell_type": "code",
      "metadata": {
        "id": "CVvYf_e_Poz4"
      },
      "source": [
        "dfcbempleadooe.describe()"
      ],
      "execution_count": null,
      "outputs": []
    },
    {
      "cell_type": "markdown",
      "metadata": {
        "id": "0-mGptMO9Z1E"
      },
      "source": [
        "### **Archivo Categorizacion Desempleo**"
      ]
    },
    {
      "cell_type": "code",
      "metadata": {
        "id": "VBvCBLEKPtr1"
      },
      "source": [
        "import pandas as pd\n",
        "dfcdesempleo = pd.read_csv('3.5 Caracterización Desempleo.csv', sep = ';', encoding = 'latin1',header=1, error_bad_lines=False) #error_bad_lines is avoid single line error\n",
        "dfcdesempleo.drop(dfcdesempleo.columns[dfcdesempleo.columns.str.contains('unnamed',case = False)],axis = 1, inplace = True)\n",
        "dfcdesempleo=dfcdesempleo.iloc[0:12,1:51]"
      ],
      "execution_count": null,
      "outputs": []
    },
    {
      "cell_type": "code",
      "metadata": {
        "id": "iWfHu5URPtl3"
      },
      "source": [
        "dfcdesempleo = dfcdesempleo.replace('\\,','.',regex=True)"
      ],
      "execution_count": null,
      "outputs": []
    },
    {
      "cell_type": "code",
      "metadata": {
        "id": "D5OXcy4cPteS"
      },
      "source": [
        "dfcdesempleo = dfcdesempleo.replace('\\%','',regex=True)"
      ],
      "execution_count": null,
      "outputs": []
    },
    {
      "cell_type": "code",
      "metadata": {
        "id": "o3x42dS8PtWz"
      },
      "source": [
        "dfcdesempleo = dfcdesempleo.replace('\\-','',regex=True)"
      ],
      "execution_count": null,
      "outputs": []
    },
    {
      "cell_type": "code",
      "metadata": {
        "id": "06bsryf7PtPe"
      },
      "source": [
        "dfcdesempleo = dfcdesempleo.replace('',0.0,regex=True)"
      ],
      "execution_count": null,
      "outputs": []
    },
    {
      "cell_type": "code",
      "metadata": {
        "id": "3jYu7PZ7PtGP"
      },
      "source": [
        "for i in range(50):\n",
        "  va=dfcdesempleo.columns[i]\n",
        "  dfcdesempleo[va]=(dfcdesempleo[va]).apply(lambda x: float(x))\n"
      ],
      "execution_count": null,
      "outputs": []
    },
    {
      "cell_type": "code",
      "metadata": {
        "id": "-qNvMz4tPs7g"
      },
      "source": [
        "dfcdesempleo.describe()"
      ],
      "execution_count": null,
      "outputs": []
    },
    {
      "cell_type": "markdown",
      "metadata": {
        "id": "Q0KyUZCk9erg"
      },
      "source": [
        "### **Archivo Sectorizacion del empleo**"
      ]
    },
    {
      "cell_type": "code",
      "metadata": {
        "id": "kwcppEyJPyHR"
      },
      "source": [
        "import pandas as pd\n",
        "dfsectempleo = pd.read_csv('4. Sectorización del empleo.csv', sep = ';', encoding = 'latin1',header=1, error_bad_lines=False) #error_bad_lines is avoid single line error\n",
        "dfsectempleo.drop(dfsectempleo.columns[dfsectempleo.columns.str.contains('unnamed',case = False)],axis = 1, inplace = True)\n",
        "dfsectempleo=dfsectempleo.iloc[0:22,1:67]"
      ],
      "execution_count": null,
      "outputs": []
    },
    {
      "cell_type": "code",
      "metadata": {
        "id": "Uwoj4PybP3OL"
      },
      "source": [
        "dfsectempleo = dfsectempleo.replace('\\,','.',regex=True)"
      ],
      "execution_count": null,
      "outputs": []
    },
    {
      "cell_type": "code",
      "metadata": {
        "id": "k-c_zmXuP3BM"
      },
      "source": [
        "dfsectempleo = dfsectempleo.replace('\\%','',regex=True)"
      ],
      "execution_count": null,
      "outputs": []
    },
    {
      "cell_type": "code",
      "metadata": {
        "id": "9q5bPe8BPx6g"
      },
      "source": [
        "dfsectempleo = dfsectempleo.replace('\\-','',regex=True)"
      ],
      "execution_count": null,
      "outputs": []
    },
    {
      "cell_type": "code",
      "metadata": {
        "id": "4eJgxs53QAXC"
      },
      "source": [
        "dfsectempleo = dfsectempleo.replace('',0.0,regex=True)"
      ],
      "execution_count": null,
      "outputs": []
    },
    {
      "cell_type": "code",
      "metadata": {
        "id": "F89WkVkBQAId"
      },
      "source": [
        "for i in range(65):\n",
        "  va=dfsectempleo.columns[i]\n",
        "  dfsectempleo[va]=(dfsectempleo[va]).apply(lambda x: float(x))\n"
      ],
      "execution_count": null,
      "outputs": []
    },
    {
      "cell_type": "code",
      "metadata": {
        "id": "6ghRA30k5I6x"
      },
      "source": [
        "dfsectempleo.describe()"
      ],
      "execution_count": null,
      "outputs": []
    },
    {
      "cell_type": "markdown",
      "metadata": {
        "id": "4hhMzROCThjx"
      },
      "source": [
        "## Conclusiones\n",
        "Los graficos de barras, lineas y el grafico de pastel fueron clave para visualizar de mejor manera las forma en que se distribuye el Mercado Laboral en Ecuador.Por las graficas se evidencio que apesar del duro golpe de la pandemia en estos dos ultimos años predomino el empleo, hubo formas de las personas sustentarse y el 2021 fue un año de levantar el mercado en comparacion de otros años.\n",
        "\n",
        "## Recomendaciones\n",
        "Como trabajo futuro analizar quizas las formas en que ha cambiado la sectorizacion del empleo poder clasificar las edades de las personas y a que Indicadores estan asignados para poder comprender mejor a que grupo de personas estan alcanzando mejor oportunidades y brindar herramientas para los ciudadanos que estan siendo dejados."
      ]
    }
  ]
}