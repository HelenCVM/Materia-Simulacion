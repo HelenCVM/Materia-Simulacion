{
  "nbformat": 4,
  "nbformat_minor": 0,
  "metadata": {
    "colab": {
      "name": "MonteCarlo.ipynb",
      "provenance": [],
      "collapsed_sections": []
    },
    "kernelspec": {
      "name": "python3",
      "display_name": "Python 3"
    },
    "language_info": {
      "name": "python"
    }
  },
  "cells": [
    {
      "cell_type": "markdown",
      "metadata": {
        "id": "QFsY45KSOB1G"
      },
      "source": [
        "**Ejercicios en clases**\n",
        "\n",
        "Autora:Helen Companioni Vargas\n",
        "\n",
        "Utilizar tecnicas de monte-carlo para encontar una aproximación de la solución a una integral, para ello revisar el siguiente video https://www.youtube.com/watch?v=8Wo2a9h42gw.\n",
        "\n",
        "\n",
        "Materia extra:\n",
        "https://www.youtube.com/watch?v=6_kaYOr8kV8\n",
        "https://www.youtube.com/watch?v=BWWw68AjSi4\n",
        "\n",
        "Generar una introducción e implementar en python la resolución del problemas utilizando Monte-Carlo\n"
      ]
    },
    {
      "cell_type": "markdown",
      "metadata": {
        "id": "WYratsQPO9Mk"
      },
      "source": [
        "\n",
        "##Introduccion\n",
        "\n",
        "\n",
        "> *La integracion de Monte Carlo consiste en un metodo que hace uso de numeros aleatorios para definir una integral bajo la curva.Este forma parte de la familia del metodo Montecarlo, lo cual ayuda a llegar a estimaciones y aproximaciones mas exactas a problemas matematicos.Ademas estos metodos dan la existencia desde 1940 para el desarrollo de armas nucleares y apoyados por el avance de los ordenadores modernos.Tecnicamente es la sucesion de sucesos enmarcados por secuencia aleatoria.*\n",
        "\n"
      ]
    },
    {
      "cell_type": "code",
      "metadata": {
        "colab": {
          "base_uri": "https://localhost:8080/"
        },
        "id": "llGkuU4EvWjA",
        "outputId": "2a19cac7-4b6d-4063-a887-46f3686ea3a2"
      },
      "source": [
        "import random\n",
        "from sympy import *\n",
        "from sympy.parsing.sympy_parser import parse_expr\n",
        "\n",
        "x = Symbol('x')\n",
        "n= int(input(\"Ingrese el valor de n: \"))\n",
        "func= parse_expr(input(\"Ingrese la funcion: \"))\n",
        "x_min= int(input(\"Ingrese el valor de x_min: \"))\n",
        "x_max= int(input(\"Ingrese el valor de x_max: \"))\n",
        "y_min= int(input(\"Ingrese el valor de y_min: \"))\n",
        "y_max= int(input(\"Ingrese el valor de y_max: \"))\n",
        "\n",
        "def zero2onetox2():\n",
        "    count = 0\n",
        "    print(\"It. \\t x \\t  f(x)  \\t   rnd\")\n",
        "    for i in range(0,n):\n",
        "        xx = round(random.uniform(x_min,x_max),4)\n",
        "        y = round(random.uniform(y_min,y_max),4)\n",
        "        k = func.subs(x,xx)\n",
        "        k=float(k)\n",
        "        if k >= y:\n",
        "            count += 1\n",
        "        print(str(i) + \"\\t\"+ str(xx) + \"\\t\" + str(k) + \"\\t\" + str(count))    \n",
        "    result = count / float(n)\n",
        "    \n",
        "    print(\"El area bajo la curva es: \",result)\n",
        "    "
      ],
      "execution_count": 72,
      "outputs": [
        {
          "name": "stdout",
          "output_type": "stream",
          "text": [
            "Ingrese el valor de n: 10\n",
            "Ingrese la funcion: 1-x**2\n",
            "Ingrese el valor de x_min: 0\n",
            "Ingrese el valor de x_max: 1\n",
            "Ingrese el valor de y_min: 0\n",
            "Ingrese el valor de y_max: 1\n"
          ]
        }
      ]
    },
    {
      "cell_type": "code",
      "metadata": {
        "colab": {
          "base_uri": "https://localhost:8080/"
        },
        "id": "v-7B4ueQweM6",
        "outputId": "8822eb38-b3bf-43d2-b1d9-ae3de2920762"
      },
      "source": [
        "zero2onetox2()"
      ],
      "execution_count": 73,
      "outputs": [
        {
          "output_type": "stream",
          "name": "stdout",
          "text": [
            "It. \t x \t  f(x)  \t   rnd\n",
            "0\t0.7183\t0.48404510999999995\t1\n",
            "1\t0.2802\t0.92148796\t1\n",
            "2\t0.8665\t0.24917774999999986\t1\n",
            "3\t0.475\t0.774375\t2\n",
            "4\t0.6957\t0.5160015099999999\t3\n",
            "5\t0.2358\t0.94439836\t4\n",
            "6\t0.4067\t0.83459511\t5\n",
            "7\t0.2193\t0.95190751\t6\n",
            "8\t0.9305\t0.13416974999999998\t6\n",
            "9\t0.6167\t0.6196811099999999\t7\n",
            "El area bajo la curva es:  0.7\n"
          ]
        }
      ]
    },
    {
      "cell_type": "code",
      "metadata": {
        "colab": {
          "base_uri": "https://localhost:8080/"
        },
        "id": "dgUFe-VlI9FL",
        "outputId": "a5d5383c-7ecc-415e-99b1-494c37f3516b"
      },
      "source": [
        "import random\n",
        "from sympy import *\n",
        "from sympy.parsing.sympy_parser import parse_expr\n",
        "x = Symbol('x')\n",
        "XI=[]\n",
        "YI=[]\n",
        "func= parse_expr(input(\"Ingrese la funcion: \"))\n",
        "m= int(input(\"Ingrese el valor de m: \"))\n",
        "a= int(input(\"Ingrese el valor de a: \"))\n",
        "b= int(input(\"Ingrese el valor de b: \"))\n",
        "numerosaleatorios= int(input(\"Ingrese la cantidad de numeros aleatorios: \"))\n",
        "#print(\"xi \\t  yi\")\n",
        "for i in range(numerosaleatorios):\n",
        "    #print(random.random())\n",
        "    if i & 1 == 0:\n",
        "      xi=a+random.random()*(b-a)\n",
        "      XI.append(xi)\n",
        "    else:\n",
        "      yi=random.random()*m\n",
        "      YI.append(yi)\n",
        "Listk=[]\n",
        "print(\"xi\")\n",
        "for y in XI:\n",
        "  print(y) \n",
        "  fx= func.subs(x,y)\n",
        "  k=float(fx)\n",
        "  Listk.append(k)\n",
        "print(Listk)\n",
        "\n",
        "print(\"yi\")\n",
        "for j in YI:\n",
        "  print(j)\n",
        "\n",
        "print(\"------------------------------------------------------\") \n",
        "print(\"Punto de exito en area bajo la curva\") \n",
        "for l in Listk:\n",
        "  for j in YI:\n",
        "    if j<= l:\n",
        "      print(\"j\",j,\"<=\",l)\n",
        "      print(l)"
      ],
      "execution_count": 24,
      "outputs": [
        {
          "output_type": "stream",
          "name": "stdout",
          "text": [
            "Ingrese la funcion: x**3+2\n",
            "Ingrese el valor de m: 30\n",
            "Ingrese el valor de a: 1\n",
            "Ingrese el valor de b: 3\n",
            "Ingrese la cantidad de numeros aleatorios: 10\n",
            "xi\n",
            "2.26656446842715\n",
            "2.706329621842859\n",
            "2.723449778319875\n",
            "1.054260662263119\n",
            "1.6737185351348618\n",
            "[13.64405448511928, 21.82175360260667, 22.200313672739917, 3.1717744004953023, 6.688644195123687]\n",
            "yi\n",
            "12.546074418280492\n",
            "9.29359558294276\n",
            "23.475412466761735\n",
            "3.1133560808603375\n",
            "1.1204143091744612\n",
            "------------------------------------------------------\n",
            "Punto de exito en area bajo la curva\n",
            "j 12.546074418280492 <= 13.64405448511928\n",
            "13.64405448511928\n",
            "j 9.29359558294276 <= 13.64405448511928\n",
            "13.64405448511928\n",
            "j 3.1133560808603375 <= 13.64405448511928\n",
            "13.64405448511928\n",
            "j 1.1204143091744612 <= 13.64405448511928\n",
            "13.64405448511928\n",
            "j 12.546074418280492 <= 21.82175360260667\n",
            "21.82175360260667\n",
            "j 9.29359558294276 <= 21.82175360260667\n",
            "21.82175360260667\n",
            "j 3.1133560808603375 <= 21.82175360260667\n",
            "21.82175360260667\n",
            "j 1.1204143091744612 <= 21.82175360260667\n",
            "21.82175360260667\n",
            "j 12.546074418280492 <= 22.200313672739917\n",
            "22.200313672739917\n",
            "j 9.29359558294276 <= 22.200313672739917\n",
            "22.200313672739917\n",
            "j 3.1133560808603375 <= 22.200313672739917\n",
            "22.200313672739917\n",
            "j 1.1204143091744612 <= 22.200313672739917\n",
            "22.200313672739917\n",
            "j 3.1133560808603375 <= 3.1717744004953023\n",
            "3.1717744004953023\n",
            "j 1.1204143091744612 <= 3.1717744004953023\n",
            "3.1717744004953023\n",
            "j 3.1133560808603375 <= 6.688644195123687\n",
            "6.688644195123687\n",
            "j 1.1204143091744612 <= 6.688644195123687\n",
            "6.688644195123687\n"
          ]
        }
      ]
    }
  ]
}