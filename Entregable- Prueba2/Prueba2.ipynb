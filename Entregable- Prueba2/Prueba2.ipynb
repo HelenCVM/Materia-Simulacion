{
  "nbformat": 4,
  "nbformat_minor": 0,
  "metadata": {
    "colab": {
      "name": "Prueba2.ipynb",
      "provenance": []
    },
    "kernelspec": {
      "name": "python3",
      "display_name": "Python 3"
    },
    "language_info": {
      "name": "python"
    }
  },
  "cells": [
    {
      "cell_type": "code",
      "execution_count": null,
      "metadata": {
        "id": "_3529voOVcZg"
      },
      "outputs": [],
      "source": [
        "#importar las librerias necesarias\n",
        "import matplotlib.pyplot as plt\n",
        "import numpy as np\n",
        "import pandas as pd\n",
        "import io\n",
        "from google.colab import files\n",
        "import plotly.graph_objects as go\n",
        "import math\n",
        "import random\n",
        "\n",
        "\n"
      ]
    },
    {
      "cell_type": "code",
      "source": [
        "def ceros (lst):\n",
        "   return lst.count(0)\n",
        "\n",
        "def unos (lst):\n",
        "   return lst.count(1)\n",
        "\n",
        "def cerosUnos(lista):\n",
        "  for i in lista:\n",
        "    if (i >= 0.5):\n",
        "      indvalorbus=lista.index(i)\n",
        "      lista.remove(i)\n",
        "      lista.insert(indvalorbus,1)\n",
        "    elif(i <0.5):\n",
        "      indvalorbuss=lista.index(i)\n",
        "      lista.remove(i)\n",
        "      lista.insert(indvalorbuss,0)\n",
        "  return lista\n",
        "\n",
        "def Corridas(lista):\n",
        "  Corridas = 1 \n",
        "  for index in range(len(lista)):\n",
        "    try:\n",
        "        if lista[index] == 1 and lista[index+1] == 0 or  lista[index] == 0 and lista[index+1] == 1:\n",
        "            Corridas += 1\n",
        "    except:\n",
        "        ...\n",
        "  return Corridas\n",
        "\n",
        "def CalculoZ(n0,n1,n,Corridas):\n",
        "  uCo=((2*n0*n1)/n)+1/2\n",
        "  udCo=((2*n0*n1)*((2*n0*n1-n)))/n**2*(n-1)\n",
        "  ra=np.sqrt(udCo)\n",
        "  Z=(Corridas - uCo)/ra\n",
        "  return Z\n",
        "\n",
        "\n",
        "\n",
        "def clasificarI(Z):\n",
        "  if(-1.96 < Z < 1.96):\n",
        "    return print('son independientes')\n",
        "  else:\n",
        "    return print('no son independientes')\n"
      ],
      "metadata": {
        "id": "7J-ts38tVQ73"
      },
      "execution_count": null,
      "outputs": []
    },
    {
      "cell_type": "markdown",
      "source": [
        "# Cuadrados medios"
      ],
      "metadata": {
        "id": "R5UG6rvlVpEz"
      }
    },
    {
      "cell_type": "code",
      "source": [
        "'''\n",
        " Cuadrados medios: Xo=74731897457, D=7\n",
        "'''\n",
        "\n",
        "listarandom=[]\n",
        "xo = int(input(\"Ingrese la semilla: \"))\n",
        "digitos = int(input(\"Ingrese el numero de digitos: \"))\n",
        "iteraciones = int(input(\"Ingrese el numero de iteraciones: \"))\n",
        "xn = xo\n",
        "for i in range(iteraciones):\n",
        "  xnn = xn**2\n",
        "  txnn = str(xnn).zfill(8)\n",
        "  tam = len(txnn)\n",
        "  ui = int(txnn[int(tam/2-digitos/2):int(tam/2+digitos/2)])\n",
        "  rn = ui / (int('9'*digitos)+1)\n",
        "  listarandom.append(rn)\n",
        "  xn = ui\n",
        "\n",
        "listacm=cerosUnos(listarandom)\n",
        "corrcm=Corridas(listacm)\n",
        "print('Corridas',corrcm)\n",
        "\n",
        "n0cm= ceros(listacm)\n",
        "print('Cantidad de ceros: ',n0cm)\n",
        "\n",
        "n1cm= unos(listacm)\n",
        "print('Cantidad de unos: ',n1cm)\n",
        "\n",
        "ncm=n0cm+n1cm\n",
        "print('Cantidad de numeros: ',ncm)\n",
        "\n",
        "Zcm=CalculoZ(n0cm,n1cm,ncm,corrcm)\n",
        "print('Z',Zcm)\n",
        "\n",
        "clasificarI(Zcm)\n",
        "\n",
        "\n",
        "\n",
        "plt.figure(figsize=plt.figaspect(1))\n",
        "values = [corrcm,n0cm,n1cm]\n",
        "labels = [\"Corridas\",\"n0\",\"n1\"]\n",
        "\n",
        "def make_autopct(values):\n",
        "    def my_autopct(pct):\n",
        "        total = sum(values)\n",
        "        val = int(round(pct*total/100.0))\n",
        "        return '{p:.2f}%  ({v:d})'.format(p=pct,v=val)\n",
        "    return my_autopct\n",
        "\n",
        "plt.pie(values, labels=labels, autopct=make_autopct(values))\n",
        "plt.show()"
      ],
      "metadata": {
        "colab": {
          "base_uri": "https://localhost:8080/",
          "height": 404
        },
        "id": "K9VHVEJOVQsR",
        "outputId": "7b481787-6bc4-4363-987e-d21fb2dcfee5"
      },
      "execution_count": null,
      "outputs": [
        {
          "output_type": "stream",
          "name": "stdout",
          "text": [
            "Ingrese la semilla: 74731897457\n",
            "Ingrese el numero de digitos: 7\n",
            "Ingrese el numero de iteraciones: 100\n",
            "Corridas 49\n",
            "Cantidad de ceros:  41\n",
            "Cantidad de unos:  59\n",
            "Cantidad de numeros:  100\n",
            "Z 0.00025190291232897157\n",
            "son independientes\n"
          ]
        },
        {
          "output_type": "display_data",
          "data": {
            "image/png": "[encoded data removed]",
            "text/plain": [
              "<Figure size 288x288 with 1 Axes>"
            ]
          },
          "metadata": {}
        }
      ]
    },
    {
      "cell_type": "markdown",
      "source": [
        "#  Congruencia lineal"
      ],
      "metadata": {
        "id": "RDxi_CltbMEh"
      }
    },
    {
      "cell_type": "code",
      "source": [
        "listarandomcl=[]\n",
        "xo = int(input(\"Ingrese la semilla: \"))\n",
        "a = int(input(\"Ingrese el valor a: \"))\n",
        "b = int(input(\"Ingrese el valor b: \"))\n",
        "m = int(input(\"Ingrese el valor m: \"))\n",
        "iteraciones = int(input(\"Ingrese el numero de iteraciones: \"))\n",
        "xn = xo\n",
        "\n",
        "for i in range(iteraciones):\n",
        "  xnn = (a*xn+b) % m\n",
        "  ui = xnn/m\n",
        "  listarandomcl.append(ui)\n",
        "  xn = xnn\n",
        "\n",
        "listacl=cerosUnos(listarandomcl)\n",
        "corrcl=Corridas(listacl)\n",
        "print('Corridas',corrcl)\n",
        "\n",
        "n0cl= ceros(listacl)\n",
        "print('Cantidad de ceros: ',n0cl)\n",
        "\n",
        "n1cl= unos(listacl)\n",
        "print('Cantidad de unos: ',n1cl)\n",
        "\n",
        "ncl=n0cl+n1cl\n",
        "print('Cantidad de numeros: ',ncl)\n",
        "\n",
        "Zcl=CalculoZ(n0cl,n1cl,ncl,corrcl)\n",
        "print('Z',Zcl)\n",
        "\n",
        "clasificarI(Zcl)\n",
        "\n",
        "\n",
        "\n",
        "plt.figure(figsize=plt.figaspect(1))\n",
        "values = [corrcl,n0cl,n1cl]\n",
        "labels = [\"Corridas\",\"n0\",\"n1\"]\n",
        "\n",
        "def make_autopct(values):\n",
        "    def my_autopct(pct):\n",
        "        total = sum(values)\n",
        "        val = int(round(pct*total/100.0))\n",
        "        return '{p:.2f}%  ({v:d})'.format(p=pct,v=val)\n",
        "    return my_autopct\n",
        "\n",
        "plt.pie(values, labels=labels, autopct=make_autopct(values))\n",
        "plt.show()\n",
        "\n",
        "'''\n",
        "Ingrese la semilla: 7\n",
        "Ingrese el valor a: 74731897457\n",
        "Ingrese el valor b: 37747318974\n",
        "Ingrese el valor m: 19\n",
        "Ingrese el numero de iteraciones: 100\n",
        "'''"
      ],
      "metadata": {
        "colab": {
          "base_uri": "https://localhost:8080/",
          "height": 457
        },
        "id": "AtGHn4rfbLgz",
        "outputId": "b0c93fff-137e-4112-ea3a-bb5f11035928"
      },
      "execution_count": null,
      "outputs": [
        {
          "output_type": "stream",
          "name": "stdout",
          "text": [
            "Ingrese la semilla: 7\n",
            "Ingrese el valor a: 74731897457\n",
            "Ingrese el valor b: 37747318974\n",
            "Ingrese el valor m: 19\n",
            "Ingrese el numero de iteraciones: 100\n",
            "Corridas 45\n",
            "Cantidad de ceros:  44\n",
            "Cantidad de unos:  56\n",
            "Cantidad de numeros:  100\n",
            "Z -0.009848981439609925\n",
            "son independientes\n"
          ]
        },
        {
          "output_type": "display_data",
          "data": {
            "image/png": "[encoded data removed]",
            "text/plain": [
              "<Figure size 288x288 with 1 Axes>"
            ]
          },
          "metadata": {}
        },
        {
          "output_type": "execute_result",
          "data": {
            "application/vnd.google.colaboratory.intrinsic+json": {
              "type": "string"
            },
            "text/plain": [
              "'\\nIngrese la semilla: 7\\nIngrese el valor a: 74731897457\\nIngrese el valor b: 37747318974\\nIngrese el valor m: 19\\nIngrese el numero de iteraciones: 100\\n'"
            ]
          },
          "metadata": {},
          "execution_count": 25
        }
      ]
    },
    {
      "cell_type": "markdown",
      "source": [
        "# Random de Python semilla "
      ],
      "metadata": {
        "id": "8ZVoohE6dOMW"
      }
    },
    {
      "cell_type": "code",
      "source": [
        "Ni = int(input('Ingrese el numero N: '))\n",
        "random.seed(1032022) \n",
        "\n",
        "\n",
        "\n",
        "listarandomrr=[]\n",
        "\n",
        "for i in range(Ni):\n",
        "    valorr=random.random()\n",
        "    listarandomrr.append(valorr)\n",
        "\n",
        "listacrr=cerosUnos(listarandomrr)\n",
        "corrcrr=Corridas(listacrr)\n",
        "print('Corridas',corrcrr)\n",
        "\n",
        "n0crr= ceros(listacrr)\n",
        "print('Cantidad de ceros: ',n0crr)\n",
        "\n",
        "n1crr= unos(listacrr)\n",
        "print('Cantidad de unos: ',n1crr)\n",
        "\n",
        "ncrr=n0crr+n1crr\n",
        "print('Cantidad de numeros: ',ncrr)\n",
        "\n",
        "Zcrr=CalculoZ(n0crr,n1crr,ncrr,corrcrr)\n",
        "print('Z',Zcrr)\n",
        "\n",
        "clasificarI(Zcrr)\n",
        "\n",
        "\n",
        "\n",
        "plt.figure(figsize=plt.figaspect(1))\n",
        "values = [corrcrr,n0crr,n1crr]\n",
        "labels = [\"Corridas\",\"n0\",\"n1\"]\n",
        "\n",
        "def make_autopct(values):\n",
        "    def my_autopct(pct):\n",
        "        total = sum(values)\n",
        "        val = int(round(pct*total/100.0))\n",
        "        return '{p:.2f}%  ({v:d})'.format(p=pct,v=val)\n",
        "    return my_autopct\n",
        "\n",
        "plt.pie(values, labels=labels, autopct=make_autopct(values))\n",
        "plt.show()"
      ],
      "metadata": {
        "colab": {
          "base_uri": "https://localhost:8080/",
          "height": 369
        },
        "id": "PkDKfz4jdOno",
        "outputId": "ea0e26a5-1fed-4152-d4f8-e89c59b068fe"
      },
      "execution_count": null,
      "outputs": [
        {
          "output_type": "stream",
          "name": "stdout",
          "text": [
            "Ingrese el numero N: 100\n",
            "Corridas 46\n",
            "Cantidad de ceros:  57\n",
            "Cantidad de unos:  43\n",
            "Cantidad de numeros:  100\n",
            "Z -0.007291675529712891\n",
            "son independientes\n"
          ]
        },
        {
          "output_type": "display_data",
          "data": {
            "image/png": "[encoded data removed]",
            "text/plain": [
              "<Figure size 288x288 with 1 Axes>"
            ]
          },
          "metadata": {}
        }
      ]
    },
    {
      "cell_type": "code",
      "source": [
        ""
      ],
      "metadata": {
        "id": "Zvt3K6BYdVnf"
      },
      "execution_count": null,
      "outputs": []
    },
    {
      "cell_type": "code",
      "source": [
        ""
      ],
      "metadata": {
        "id": "oqeZBBffdVZt"
      },
      "execution_count": null,
      "outputs": []
    }
  ]
}